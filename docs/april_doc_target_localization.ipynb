{
 "cells": [
  {
   "attachments": {},
   "cell_type": "markdown",
   "id": "564f1e55",
   "metadata": {},
   "source": [
    "# APRiL \n",
    "### Advanced Passive Radar Library\n",
    "Target Localization Module <br>\n",
    "\n",
    "Algoritm implementations in this module solves the multistatic localization problem according to the description in [1].\n",
    "\n",
    "In order to calculate the descartes coordinates of a target we need the descartes coordinates of the radar, the used illuminators and the measured bistatic ranges as apriori knowledge. In [1] two different algorithms are described to solve the problem. The Spherical  Interpolation (SI) and the Spherical Intersection (SX) methods. Currently pyAPRiL only implements the later in the target localization module.\n"
   ]
  },
  {
   "cell_type": "markdown",
   "id": "005604e1",
   "metadata": {},
   "source": [
    "## 1. Multistatic Localization\n",
    "### 1.1 <span style=\"color:Olive\"> localize_target_ms_sx: </span>\n",
    "\n",
    "*rd_matrix = <span style=\"color:DarkKhaki\">localize_target_ms_sx</span>(ioo_coords, rb_vec)* \n",
    "\n",
    "This function solves the multistatic localization problem using the Spherical intersection approcch described in [1]\n",
    "    \n",
    "**Parameters:**\n",
    "- *ioo_coords*: <span style=\"color:RoyalBlue\">float numpy array with size (NTx x 3), where NTx is the \n",
    "        number of illuminators </span>\n",
    "> x,y,z descartes coordinates of the used illuminators [m]\n",
    "- *rb_vec*: <span style=\"color:RoyalBlue\">float numpy array with size (NTx x 1), where NTx is the \n",
    "        number of illuminatorss </span>\n",
    "> measured bistatic ranges [m]\n",
    "        \n",
    "**Returns:**\n",
    "- *x1,x2* <span style=\"color:RoyalBlue\"> float numpy arrays (1 x 3) </span> \n",
    "> 2 Solutions of the calculated x,y,z descartes coordinates of the target. "
   ]
  },
  {
   "cell_type": "markdown",
   "id": "782561f5",
   "metadata": {},
   "source": [
    "The following code section shows the utilization of the function."
   ]
  },
  {
   "cell_type": "code",
   "execution_count": 1,
   "id": "d94dd2a0",
   "metadata": {},
   "outputs": [
    {
     "name": "stdout",
     "output_type": "stream",
     "text": [
      "Target coordinate, solution #1 [-5.34896571e-11  1.00000000e+03 -1.30739863e-12]\n",
      "Target coordinate, solution #2 [-872.82156541   55.32462363  385.06828654]\n",
      "Maximum coordinate error: [5.34896571e-11 9.44675376e+02]\n"
     ]
    }
   ],
   "source": [
    "import numpy as np\n",
    "from pyapril.targetLocalization import localize_target_ms_sx\n",
    "\n",
    "def calculate_bistatic_range(ioo_coords, radar_coords, target_coords):\n",
    "    # Baseline distance\n",
    "    L = np.sqrt(np.sum(np.abs(radar_coords-ioo_coords)**2)) \n",
    "    \n",
    "     # Target to IoO distance\n",
    "    Rt = np.sqrt(np.sum(np.abs(target_coords-ioo_coords)**2)) \n",
    "    \n",
    "    # Target to radar distance\n",
    "    Rr = np.sqrt(np.sum(np.abs(target_coords-radar_coords)**2)) \n",
    "    \n",
    "    # Bistatic distance\n",
    "    Rb = Rt+Rr-L\n",
    "\n",
    "    return Rb\n",
    "\n",
    "\"\"\"\n",
    "PARAMETERS\n",
    "\"\"\"\n",
    "ioo_coords = np.array([[0.0, -100.0, -500.0],\n",
    "                      [500.0, 500.0, 2000.0],\n",
    "                      [-2000.0, 2000.0, 0.0]])\n",
    "\n",
    "\n",
    "target_coords = np.array([0.0, 1000.0, 0.0])\n",
    "\n",
    "\"\"\"\n",
    "TEST\n",
    "\"\"\"\n",
    "\n",
    "rb_vec =  np.array([calculate_bistatic_range(ioo_coords[i,:], np.array([0,0,0]), target_coords) for i in range(ioo_coords.shape[0])])\n",
    "x1,x2 = localize_target_ms_sx(ioo_coords, rb_vec)\n",
    "\n",
    "print(\"Target coordinate, solution #1\", x1)\n",
    "print(\"Target coordinate, solution #2\", x2)\n",
    "\n",
    "# Calculate errors\n",
    "err = np.max(abs(np.array([x1,x2]) -target_coords), axis=1)\n",
    "\n",
    "print(\"Maximum coordinate error:\",err)\n",
    "\n"
   ]
  },
  {
   "attachments": {},
   "cell_type": "markdown",
   "id": "fac5be74",
   "metadata": {},
   "source": [
    "### Utlization Notes\n",
    "The following points give some guidance on the real world application of the algorithm.\n",
    "- The used illuminators should not share an equal coordinate value, otherwise the  calculation fail. (Singular matrix) E.g.: multiple illuminators have the same height value\n",
    "- In order to use this algorithm one has to known the correct pairing of the measured bistatic range values and the illuminators. This could be difficult when using DVB-T SFN illuminators, and hence auxiliary processing steps are required to determine it.\n",
    "- The calculation always results in two possible coordinates. It is task of the upcoming processing steps to decide which one is valid. One can make this decision based on direction of arrival information about the target  (if exist), or by comparing the altitudes of the calculated target positions.\n",
    "\n",
    "\n",
    "### References\n",
    "[1] Mateusz Malanowski: *Signal Processing for Passive Bistatic Radar*, 2019 ARTECH HOUSE 685 Canton Street Norwood, MA 02062, Section 8.2.1\n",
    "\n",
    "### Further Work\n",
    "**Multistatic localization**\n",
    "- [F-MS1] [1] Describes an alternative localization method, called Spherical Interpolation, which is claimed to be less accurate in Passive Radar use cases, but also used when it comes to solving TDOA problems.\n",
    "\n",
    "#### Authors\n",
    "dr. Tamas Peto, PhD <br>\n",
    "Initial version: 2023 10 01"
   ]
  }
 ],
 "metadata": {
  "kernelspec": {
   "display_name": "Python 3 (ipykernel)",
   "language": "python",
   "name": "python3"
  },
  "language_info": {
   "codemirror_mode": {
    "name": "ipython",
    "version": 3
   },
   "file_extension": ".py",
   "mimetype": "text/x-python",
   "name": "python",
   "nbconvert_exporter": "python",
   "pygments_lexer": "ipython3",
   "version": "3.11.3"
  }
 },
 "nbformat": 4,
 "nbformat_minor": 5
}
